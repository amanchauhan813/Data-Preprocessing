import pandas as pd
import numpy as np
from sklearn.compose import ColumnTransformer

data=pd.read_csv('covid_toy.csv')
  
